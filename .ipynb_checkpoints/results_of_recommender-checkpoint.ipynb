{
 "cells": [
  {
   "cell_type": "code",
   "execution_count": 1,
   "metadata": {
    "collapsed": true
   },
   "outputs": [],
   "source": [
    "from recommender_methords import *"
   ]
  },
  {
   "cell_type": "markdown",
   "metadata": {},
   "source": [
    "Here you can see a demonstration of recommendation top 5 movies in genre of your choice, second argument (5 in this case)\n",
    "is the number of movies that recommender will list."
   ]
  },
  {
   "cell_type": "code",
   "execution_count": 7,
   "metadata": {
    "collapsed": false
   },
   "outputs": [
    {
     "name": "stdout",
     "output_type": "stream",
     "text": [
      "Star Wars: Episode IV - A New Hope (1977)  72215.0\n",
      "                             Jurassic Park (1993)  72147.0\n",
      "                               Matrix, The (1999)  71450.0\n",
      "                                Braveheart (1995)  63920.0\n",
      "Star Wars: Episode VI - Return of the Jedi (1983)  59467.0\n"
     ]
    }
   ],
   "source": [
    "print(recommendMeMovies(\"Action\", 5))"
   ]
  },
  {
   "cell_type": "markdown",
   "metadata": {},
   "source": [
    "Second possibility of the recommeder is to get similar movies to one you have watched. Things that recommender consider in this case\n",
    "are geners of the movie watched and the most popular movie from the category/genre of the watched movie."
   ]
  },
  {
   "cell_type": "code",
   "execution_count": 15,
   "metadata": {
    "collapsed": false
   },
   "outputs": [
    {
     "name": "stdout",
     "output_type": "stream",
     "text": [
      "We found more titles that may be similar to the movie you requested.\n",
      "Star Wars: Episode IV - A New Hope (1977)  72215.0\n",
      "Star Wars: Episode IV - A New Hope (1977)  72215.0\n",
      "Forrest Gump (1994)  86629.0\n",
      "None\n"
     ]
    }
   ],
   "source": [
    "print(recommendationTop(\"star wars\"))"
   ]
  },
  {
   "cell_type": "code",
   "execution_count": 17,
   "metadata": {
    "collapsed": false
   },
   "outputs": [
    {
     "name": "stdout",
     "output_type": "stream",
     "text": [
      "We found more titles that may be similar to the movie you requested.\n",
      "Star Wars: Episode IV - A New Hope (1977)  72215.0\n",
      "Shawshank Redemption, The (1994)  84455.0\n",
      "Silence of the Lambs, The (1991)  80274.0\n",
      "None\n"
     ]
    }
   ],
   "source": [
    "print(recommendationTop(\"harry potter\"))"
   ]
  },
  {
   "cell_type": "code",
   "execution_count": 18,
   "metadata": {
    "collapsed": false
   },
   "outputs": [
    {
     "name": "stdout",
     "output_type": "stream",
     "text": [
      "We found more titles that may be similar to the movie you requested.\n",
      "Star Wars: Episode IV - A New Hope (1977)  72215.0\n",
      "Forrest Gump (1994)  86629.0\n",
      "Empty DataFrame\n",
      "Columns: [title, times_watched]\n",
      "Index: []\n",
      "None\n"
     ]
    }
   ],
   "source": [
    "print(recommendationTop(\"matrix\"))"
   ]
  },
  {
   "cell_type": "markdown",
   "metadata": {},
   "source": [
    "One more thing that you can do is to search for the movie, it accepts key words as well, so you don't have to write whole name of the movie."
   ]
  },
  {
   "cell_type": "code",
   "execution_count": 19,
   "metadata": {
    "collapsed": false
   },
   "outputs": [
    {
     "name": "stdout",
     "output_type": "stream",
     "text": [
      "Matrix, The (1999)\n",
      "                      Matrix Reloaded, The (2003)\n",
      "                   Matrix Revolutions, The (2003)\n",
      "                            Animatrix, The (2003)\n",
      "Return to Source: The Philosophy of The Matrix...\n",
      "                     Armitage: Dual Matrix (2002)\n",
      "None\n"
     ]
    }
   ],
   "source": [
    "print(searchByTitle(\"matrix\"))"
   ]
  }
 ],
 "metadata": {
  "kernelspec": {
   "display_name": "Python 3",
   "language": "python",
   "name": "python3"
  },
  "language_info": {
   "codemirror_mode": {
    "name": "ipython",
    "version": 3
   },
   "file_extension": ".py",
   "mimetype": "text/x-python",
   "name": "python",
   "nbconvert_exporter": "python",
   "pygments_lexer": "ipython3",
   "version": "3.5.3"
  }
 },
 "nbformat": 4,
 "nbformat_minor": 0
}
